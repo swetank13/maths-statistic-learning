{
 "cells": [
  {
   "cell_type": "markdown",
   "id": "52ebd3ee-9a26-468d-a042-5b649cbedb9e",
   "metadata": {},
   "source": [
    "<h2 align=\"center\" style=\"color:purple\">Advance Hypothesis Testing (Optional)</h2>"
   ]
  },
  {
   "cell_type": "markdown",
   "id": "78c5e00b-b27b-4a50-8862-6fa1571400e5",
   "metadata": {},
   "source": [
    "### 11.1: T-test and Student's t-distribution\n",
    "- Z-test is useful when sample size is more than 30.\n",
    "- T-test is used when the population variance is unknown and sample size is less than 30. In this case bell curve has fat tail."
   ]
  },
  {
   "cell_type": "markdown",
   "id": "efad1a47-8ca1-436c-92a7-bbdbbe4ce375",
   "metadata": {},
   "source": [
    "### 11.2: Hypothesis Testing Using T-Test\n",
    "\n",
    "The school management has introduced a new teaching method that claims that the average exam score improves due to this new way of teaching. Historically the average score has been 72 (i.e. population average). We have conducted a pilot test on a class of 20 students and we have their exam scores in exam_scores.csv file. Based on this conduct a hypothesis test to prove or reject the claim.\n",
    "\n",
    "**NULL Hypothesis** - New teaching method doesn't increse the average exam score\n",
    "\n",
    "**ALTERNATE Hypothesis** - New teaching method increses the average exam score"
   ]
  },
  {
   "cell_type": "code",
   "execution_count": 1,
   "id": "1e5caca7-5b15-4221-90a7-e157217d8ac9",
   "metadata": {},
   "outputs": [],
   "source": [
    "import pandas as pd"
   ]
  },
  {
   "cell_type": "code",
   "execution_count": 2,
   "id": "7422385c-cf65-43ec-9e6a-0532e91b7888",
   "metadata": {},
   "outputs": [
    {
     "data": {
      "text/html": [
       "<div>\n",
       "<style scoped>\n",
       "    .dataframe tbody tr th:only-of-type {\n",
       "        vertical-align: middle;\n",
       "    }\n",
       "\n",
       "    .dataframe tbody tr th {\n",
       "        vertical-align: top;\n",
       "    }\n",
       "\n",
       "    .dataframe thead th {\n",
       "        text-align: right;\n",
       "    }\n",
       "</style>\n",
       "<table border=\"1\" class=\"dataframe\">\n",
       "  <thead>\n",
       "    <tr style=\"text-align: right;\">\n",
       "      <th></th>\n",
       "      <th>name</th>\n",
       "      <th>score</th>\n",
       "    </tr>\n",
       "  </thead>\n",
       "  <tbody>\n",
       "    <tr>\n",
       "      <th>0</th>\n",
       "      <td>Rishi</td>\n",
       "      <td>78</td>\n",
       "    </tr>\n",
       "    <tr>\n",
       "      <th>1</th>\n",
       "      <td>Arjun</td>\n",
       "      <td>71</td>\n",
       "    </tr>\n",
       "    <tr>\n",
       "      <th>2</th>\n",
       "      <td>Lakshmi</td>\n",
       "      <td>68</td>\n",
       "    </tr>\n",
       "    <tr>\n",
       "      <th>3</th>\n",
       "      <td>Aditi</td>\n",
       "      <td>81</td>\n",
       "    </tr>\n",
       "    <tr>\n",
       "      <th>4</th>\n",
       "      <td>Aisha</td>\n",
       "      <td>85</td>\n",
       "    </tr>\n",
       "  </tbody>\n",
       "</table>\n",
       "</div>"
      ],
      "text/plain": [
       "      name  score\n",
       "0    Rishi     78\n",
       "1    Arjun     71\n",
       "2  Lakshmi     68\n",
       "3    Aditi     81\n",
       "4    Aisha     85"
      ]
     },
     "execution_count": 2,
     "metadata": {},
     "output_type": "execute_result"
    }
   ],
   "source": [
    "df = pd.read_csv(\"../data/exam_scores.csv\")\n",
    "df.head()"
   ]
  },
  {
   "cell_type": "code",
   "execution_count": 3,
   "id": "936fc454-5dfd-4b38-a3d3-a113cf864c93",
   "metadata": {},
   "outputs": [
    {
     "data": {
      "text/plain": [
       "(2.228523555325052, 0.019059543933267798)"
      ]
     },
     "execution_count": 3,
     "metadata": {},
     "output_type": "execute_result"
    }
   ],
   "source": [
    "from scipy import stats\n",
    "\n",
    "population_mean = 72\n",
    "\n",
    "# Performing a one-sample t-test for Class scores against the hypothesized population mean\n",
    "t_stat_one_sample, p_value_one_sample = stats.ttest_1samp(df.score, population_mean, alternative=\"greater\")\n",
    "\n",
    "t_stat_one_sample, p_value_one_sample"
   ]
  },
  {
   "cell_type": "code",
   "execution_count": 4,
   "id": "1784e97e-f15f-42c5-8493-2b9ba689acb5",
   "metadata": {},
   "outputs": [
    {
     "data": {
      "text/plain": [
       "True"
      ]
     },
     "execution_count": 4,
     "metadata": {},
     "output_type": "execute_result"
    }
   ],
   "source": [
    "# Hypothesis Testing Using Rejection Region\n",
    "t_critical = 1.729\n",
    "\n",
    "t_stat_one_sample > t_critical"
   ]
  },
  {
   "cell_type": "markdown",
   "id": "0797088f-2f43-4701-bf27-4be6f02b666d",
   "metadata": {},
   "source": [
    "Since the calculated t statistics is above the critical value, we can reject the null hypothesis that there is no improvement due to a new teaching method. Hence alternative hypothesis that new teaching method indeed improve the grades is proven."
   ]
  },
  {
   "cell_type": "code",
   "execution_count": 5,
   "id": "23cedd87-d9ff-4ce9-afd4-aed5d8c228f6",
   "metadata": {},
   "outputs": [
    {
     "data": {
      "text/plain": [
       "True"
      ]
     },
     "execution_count": 5,
     "metadata": {},
     "output_type": "execute_result"
    }
   ],
   "source": [
    "# Hypothesis Testing Using P Value\n",
    "significance_level = 0.05\n",
    "\n",
    "p_value_one_sample < significance_level"
   ]
  },
  {
   "cell_type": "markdown",
   "id": "c313d73b-cd54-4e93-b5aa-e601b654c60e",
   "metadata": {},
   "source": [
    "Since the calculated p value for our sample is less that the significance level, we can reject the null hypothesis that there is no improvement due to a new teaching method. Hence alternative hypothesis that new teaching method indeed improve the grades is proven."
   ]
  },
  {
   "cell_type": "markdown",
   "id": "5995604a-538e-47bc-8960-552078efd953",
   "metadata": {},
   "source": [
    "### 11.4: Chi squared test of goodness of fit\n",
    "\n",
    "Here, we will use chi squared goodness of fit test to figure out if phones are selling as per expected numbers or not. We have total 4 types of phones."
   ]
  },
  {
   "cell_type": "code",
   "execution_count": 6,
   "id": "c3f566b6-679e-48f4-a90e-be2ffc912be5",
   "metadata": {},
   "outputs": [
    {
     "data": {
      "text/plain": [
       "(2.232142857142857, 0.5256450109609307)"
      ]
     },
     "execution_count": 6,
     "metadata": {},
     "output_type": "execute_result"
    }
   ],
   "source": [
    "import numpy as np\n",
    "\n",
    "expected = np.array([40, 60, 30, 70])\n",
    "actual = np.array([45, 55, 35, 65])\n",
    "\n",
    "import scipy.stats as stats\n",
    "\n",
    "chi_square_statistic, p_value = stats.chisquare(actual, expected)\n",
    "chi_square_statistic, p_value"
   ]
  },
  {
   "cell_type": "code",
   "execution_count": 7,
   "id": "2a34ee27-3cd9-4438-b150-1a21d5d7218c",
   "metadata": {},
   "outputs": [
    {
     "data": {
      "text/plain": [
       "False"
      ]
     },
     "execution_count": 7,
     "metadata": {},
     "output_type": "execute_result"
    }
   ],
   "source": [
    "significance_level = 0.05\n",
    "\n",
    "p_value < significance_level"
   ]
  },
  {
   "cell_type": "markdown",
   "id": "4b9bb56f-763a-454f-9548-2d29be20378a",
   "metadata": {},
   "source": [
    "p value is not less than significance level which means that we can not reject null hypothesis. Meaning that expected numbers are not good and they do not represent the reality"
   ]
  },
  {
   "cell_type": "markdown",
   "id": "b7cff675-4064-467c-8b71-aef1872f221a",
   "metadata": {},
   "source": [
    "### 11.5: chi_squared_test_of_independance\n",
    "\n",
    "Problem Statement: We have a mobile phone store selling iphones and samsung galaxies. We have sales data for age group less than 30 and >= 30. Based on this figure out if these two variables (i.e. type of the phone and age group) have dependance or not. We need to form null and alternate hypothesis for this.\n",
    "\n",
    "NULL Hypothesis: There is no association between phone preference and age group\n",
    "Alternate Hypothesis: There is an association between phone preference and age group"
   ]
  },
  {
   "cell_type": "code",
   "execution_count": 8,
   "id": "27328006-66de-49ae-8572-4f605341c42c",
   "metadata": {},
   "outputs": [
    {
     "data": {
      "text/plain": [
       "(17.267219387755098,\n",
       " 3.247411250228346e-05,\n",
       " 1,\n",
       " array([[37.33333333, 42.66666667],\n",
       "        [32.66666667, 37.33333333]]))"
      ]
     },
     "execution_count": 8,
     "metadata": {},
     "output_type": "execute_result"
    }
   ],
   "source": [
    "from scipy.stats import chi2_contingency\n",
    "\n",
    "# Observed frequencies for product preferences across two age groups\n",
    "actual_count = np.array([\n",
    "    [50, 30],  # Under 30: 50 prefer iPhone, 30 prefer Samsung Galaxy\n",
    "    [20, 50]   # 30 & Over: 20 prefer Product iPhone, 50 prefer Samsung Galaxy\n",
    "])\n",
    "\n",
    "chi2_statistic, p_value, df, expected_count = chi2_contingency(actual_count, correction=False)\n",
    "chi2_statistic, p_value, df, expected_count"
   ]
  },
  {
   "cell_type": "markdown",
   "id": "7c6781ab-0a63-421b-be26-59cca4562f8c",
   "metadata": {},
   "source": [
    "##### Hypothesis Testing Using Rejection Region"
   ]
  },
  {
   "cell_type": "code",
   "execution_count": 10,
   "id": "fc3aca35-8619-468f-8df0-1058d16b8b6b",
   "metadata": {},
   "outputs": [
    {
     "data": {
      "text/plain": [
       "True"
      ]
     },
     "execution_count": 10,
     "metadata": {},
     "output_type": "execute_result"
    }
   ],
   "source": [
    "chi2_critical = 3.84 # The value from chi-squared table for df = 1 and alpha = 0.05\n",
    "\n",
    "chi2_statistic > chi2_critical"
   ]
  },
  {
   "cell_type": "markdown",
   "id": "00aa9c8f-d4d4-49eb-809e-7e09ce36e6bc",
   "metadata": {},
   "source": [
    "Chi-squared statistic is greater than the critical value which means we can reject the null hypothesis. This means that there is indeed a dependance between the kind of phone people prefer and the age group"
   ]
  },
  {
   "cell_type": "markdown",
   "id": "5c789467-d0cf-4a8e-9430-7b4974e649e9",
   "metadata": {},
   "source": [
    "##### Hypothesis Testing Using p Value"
   ]
  },
  {
   "cell_type": "code",
   "execution_count": 11,
   "id": "ad677e6b-f2f7-4a7c-acb1-55be526d1e72",
   "metadata": {},
   "outputs": [
    {
     "data": {
      "text/plain": [
       "True"
      ]
     },
     "execution_count": 11,
     "metadata": {},
     "output_type": "execute_result"
    }
   ],
   "source": [
    "alpha = 0.05\n",
    "\n",
    "p_value < alpha"
   ]
  },
  {
   "cell_type": "markdown",
   "id": "1e4c16b9-7f9c-4360-9aa5-d9708808e02c",
   "metadata": {},
   "source": [
    "Calculated p value is less than the alpha (0.05) which means we can reject the null hypothesis. This means that there is indeed a dependance between the kind of phone people prefer and the age group\n",
    "\n",
    "Above we have used Rejection region and p Value for rejecting null hypothesis. In real life you need to use just one method. Fundamentally they are two different ways of doing the same thing!"
   ]
  }
 ],
 "metadata": {
  "kernelspec": {
   "display_name": "Python 3 (ipykernel)",
   "language": "python",
   "name": "python3"
  },
  "language_info": {
   "codemirror_mode": {
    "name": "ipython",
    "version": 3
   },
   "file_extension": ".py",
   "mimetype": "text/x-python",
   "name": "python",
   "nbconvert_exporter": "python",
   "pygments_lexer": "ipython3",
   "version": "3.10.11"
  }
 },
 "nbformat": 4,
 "nbformat_minor": 5
}
