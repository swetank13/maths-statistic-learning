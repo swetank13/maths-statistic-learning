{
 "cells": [
  {
   "cell_type": "markdown",
   "id": "458d17d6-f132-4081-a47d-b2b366c9e635",
   "metadata": {},
   "source": [
    "### 8.1. Random Sampling & Sample Bias\n",
    "- Sample bias occurs when a sample is not representative of the population.\n",
    "- Trial participants should be representative of the population.\n",
    "- Participation bias occurs when the individuals who choose to participate in a study differ significantly from those who do not.\n",
    "- Language bias is the influence of language on perception and decision-making, often leading to skewed interpretations or conclusions.\n",
    "- Survivorship bias happens when we only look at the success stories and ignore the failures, leading to a misleading view of reality."
   ]
  },
  {
   "cell_type": "markdown",
   "id": "178e12de-672b-40c2-81bd-6770b74d1b4e",
   "metadata": {},
   "source": [
    "### 8.2: The Law of Large Numbers\n",
    "- It states that as the number of trials increases, the average of the trial result gets closer to the theoretical or real average."
   ]
  },
  {
   "cell_type": "markdown",
   "id": "3117486b-6320-4d2d-97c1-a26bbde172c4",
   "metadata": {},
   "source": [
    "### 8.3: Central Limit Theorem, Sampling Distribution\n",
    "- The central Limit Theorem states that as the sample size increases, the distribution of sample means approaches a normal distribution, regardless of the population's original distribution.\n",
    "- A sample distribution is the distribution calculated from multiple samples of a population.\n",
    "- For sample sizes of 30 or more, sample means and proportions tend to follow a nearly normal distribution.\n",
    "- Population distribution means how a particular characteristic or variable is spread out among all the people or units in a population."
   ]
  },
  {
   "cell_type": "markdown",
   "id": "504464d6-2fbb-4d44-9dc0-409e291b5da3",
   "metadata": {},
   "source": [
    "### 8.5: Standard Error\n",
    "- The standard error quantifies the precision of a sample mean, calculated as the sample standard deviation divided by the square root of the sample size.\n",
    "- Formula for standard error: σ(xˉ)=σ/sqrt(n)"
   ]
  },
  {
   "cell_type": "markdown",
   "id": "52aae121-2b2b-45c8-aa76-6a1c3d1b268d",
   "metadata": {},
   "source": [
    "### 8.9: Confidence Interval\n",
    "- Confidence intervals provide a range of values within which we expect the true population parameter (like the mean) to fall, with a certain level of confidence.\n",
    "- Confidence Interval Formula: xˉ±z(σ/sqrt(n))"
   ]
  }
 ],
 "metadata": {
  "kernelspec": {
   "display_name": "Python 3 (ipykernel)",
   "language": "python",
   "name": "python3"
  },
  "language_info": {
   "codemirror_mode": {
    "name": "ipython",
    "version": 3
   },
   "file_extension": ".py",
   "mimetype": "text/x-python",
   "name": "python",
   "nbconvert_exporter": "python",
   "pygments_lexer": "ipython3",
   "version": "3.10.11"
  }
 },
 "nbformat": 4,
 "nbformat_minor": 5
}
