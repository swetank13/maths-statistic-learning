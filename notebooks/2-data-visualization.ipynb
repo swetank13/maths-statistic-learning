{
 "cells": [
  {
   "cell_type": "markdown",
   "id": "272f561c-83d8-4178-a829-126ed2df3a20",
   "metadata": {},
   "source": [
    "<h3 align=\"center\">Data & Visualization Basics</h3>"
   ]
  },
  {
   "cell_type": "markdown",
   "id": "e8df9c84-e919-47eb-afb9-7b2b50e3dc5f",
   "metadata": {},
   "source": [
    "### 2.1: Types of Data\n",
    "- Structured data is organized, follows a clear format, and is easy to work with (Ex: Table data, JSON, XML).\n",
    "- Unstructured data lacks a specific structure, is more diverse in content, and requires specialized tools and techniques for analysis (Ex: Audio, Video, Free Form Text).\n",
    "- Categorical data represents categories, labels, or distinct groups. It is used to classify and categorize items or observations based on certain characteristics or attributes.\n",
    "- Numeric data consists of numerical values that represent measurable quantities or continuous variables.\n",
    "- Nominal data consists of categories or labels with no inherent order or ranking.\n",
    "- Ordinal data, unlike nominal data, has a specific order or ranking among categories.\n",
    "- Continuous data encompasses an infinite range of precise values, often with decimals.\n",
    "- Discrete data, on the other hand, comprises distinct, countable numerical values."
   ]
  },
  {
   "cell_type": "markdown",
   "id": "46c80c5c-1bf6-47a7-9997-5c0588a39340",
   "metadata": {},
   "source": [
    "### 2.2: Pie chart and Bar chart\n",
    "- Use a bar chart when you have benchmark values to compare with.\n",
    "- Use a Horizontal bar chart when category labels are long.\n",
    "- Use a Horizontal bar chart instead of a pie chart when the number of categories is more than 5.\n",
    "- Use a vertical bar chart (Column chart) for time series data.\n",
    "- Consider a Clustered Column chart for comparing multiple data series within distinct categories."
   ]
  },
  {
   "cell_type": "markdown",
   "id": "23d19b35-d9ae-4ed9-8e8b-1da99aef5de6",
   "metadata": {},
   "source": [
    "### 2.4: Histogram and Line chart\n",
    "- Histograms are primarily used to show the frequency distribution of a continuous or discrete dataset.\n",
    "- In a histogram, all bins (buckets) are of equal size.\n",
    "- A line chart is useful in presenting the trend or change in data over a period.\n",
    "- A stacked column chart is used to represent and compare multiple categories in a single bar, while also displaying the overall total."
   ]
  },
  {
   "cell_type": "markdown",
   "id": "8d893526-8533-405d-a279-65db8cda5890",
   "metadata": {},
   "source": [
    "### 2.6: Scatter Plot and Bubble Plot\n",
    "- Scatter Plot helps in\n",
    "  1. Outlier detection\n",
    "  2. Visualizing the relationship between 2 variables (ex: area vs price, height vs exam score).\n",
    "  3. Identifying trend (ex: linear regression).\n",
    "- A bubble plot (or bubble chart) is used primarily in scenarios where you want to visualize relationships among three or more numeric variables in a single chart. It extends a scatter plot by adding a third dimension through the size of the bubbles (and sometimes a fourth dimension through color).\n",
    "- A bubble plot is best suited for exploring and communicating multivariate data relationships visually, where size and position convey important insights about three variables simultaneously."
   ]
  },
  {
   "cell_type": "markdown",
   "id": "d0746f8f-6927-4384-9637-b1366700c6b8",
   "metadata": {},
   "source": [
    "### 2.8: Univariate Vs Bivariate Vs Multivariate\n",
    "- Univariate - Analysis of a single variable (ex: blood sugar analysis).\n",
    "- Bivariate - Analysis of two variable (ex: area vs price).\n",
    "- Multivariate - Analysis of more than 2 variable (ex: bubble chart example)."
   ]
  }
 ],
 "metadata": {
  "kernelspec": {
   "display_name": "Python 3 (ipykernel)",
   "language": "python",
   "name": "python3"
  },
  "language_info": {
   "codemirror_mode": {
    "name": "ipython",
    "version": 3
   },
   "file_extension": ".py",
   "mimetype": "text/x-python",
   "name": "python",
   "nbconvert_exporter": "python",
   "pygments_lexer": "ipython3",
   "version": "3.10.11"
  }
 },
 "nbformat": 4,
 "nbformat_minor": 5
}
