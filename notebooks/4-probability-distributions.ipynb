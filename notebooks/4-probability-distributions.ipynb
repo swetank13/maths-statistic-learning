{
 "cells": [
  {
   "cell_type": "markdown",
   "id": "68fb615d-75d0-4a74-9aa0-912f2d6af625",
   "metadata": {},
   "source": [
    "<h2 align=\"center\">Probability Theory</h2>"
   ]
  },
  {
   "cell_type": "markdown",
   "id": "ad44d60b-3664-4c16-a56a-692bce3c9e69",
   "metadata": {},
   "source": [
    "- Probability is a measure of the chance of an event happening. It ranges from 0 (impossible) to 1 (certain).\n",
    "- It is calculated by dividing favorable outcomes by possible outcomes.\n",
    "- Addition Rule:\n",
    "  - Non-overlapping Events: p(E ∪ F) = p(E) + p(F) where event E and F don't overlap.\n",
    "  - Overlapping Events: p(E ∪ F) = p(E) + p(F) − p(E ∩ F)\n",
    "- Multiplication Rule:\n",
    "  - Independent Events (\"And\" Rule): p(E ∩ F) = p(E) * p(F)\n",
    "  - Dependent Events (\"Conditional\" Rule): p(E ∩ F) = p(E) * p(F | E)\n",
    "- Complement Rule: p(E′) = 1 − p(E), where E′ is the complement of event E.\n",
    "- Conditional probability: Finding the chance of an event happening when we already know that another related event has occurred.\n",
    "- Bayes' Theorem: A mathematical formula for determining conditional probability.\n",
    "- The formula for Bayes' theorem is: p(F|E)=p(E|F)*p(E)/p(F)"
   ]
  },
  {
   "cell_type": "markdown",
   "id": "c168a7e2-d68e-481e-9fdb-bb3c18516514",
   "metadata": {},
   "source": [
    "<h2 align=\"center\">Distributions</h2>"
   ]
  },
  {
   "cell_type": "markdown",
   "id": "0afc6347-cb06-40b7-9da5-b124e0efc850",
   "metadata": {},
   "source": [
    "### 5.1: Distribution\n",
    "- Distribution: Arrangement or spread of different values.\n",
    "- Normal Distribution: Most values clustered in the middle, forming a bell-shaped curve.\n",
    "- Probability Distribution: Estimates the likelihood of various outcomes based on chance.\n",
    "- Discrete Distribution: Things happen in specific steps or groups, like counting numbers.\n",
    "- Continuous Distribution: Values occur anywhere within a range, such as height or weight measurements."
   ]
  },
  {
   "cell_type": "markdown",
   "id": "b99c54e5-5541-403b-8d07-01e877737cae",
   "metadata": {},
   "source": [
    "### 5.2: Skewness\n",
    "- Right-skewed distribution: Most data on the left with a few high values extending right.\n",
    "- Left-skewed distribution: Most data on the right with a few low values extending left.\n",
    "- Zero-skewed distribution: Data evenly spread around the mean, forming a symmetrical shape.\n",
    "- In a right-skewed distribution: Mean > Median.\n",
    "- In a left-skewed distribution: Median > Mean.\n",
    "- In a normal distribution: Mean = Median = Mode."
   ]
  },
  {
   "cell_type": "markdown",
   "id": "cf8e86e8-3714-4337-b368-2048552b0cf8",
   "metadata": {},
   "source": [
    "### 5.3: Normal Distribution\n",
    "- Mean: The average value, calculated by summing all values and dividing by their count.\n",
    "- Standard Deviation: Measures how far data is spread from the mean; lower indicates closer to average, higher indicates more spread out.\n",
    "- 68-95-99.7 Rule: In a normal distribution, 68% of data falls within one standard deviation from the mean, 95% within two, and nearly 99.7% within three standard deviations.\n",
    "- An outlier is a number/value in a set that is much higher or lower than the others.\n",
    "- Outliers can be identified using a normal distribution and standard deviation, as they typically fall far outside the typical range of values."
   ]
  },
  {
   "cell_type": "markdown",
   "id": "deb57bea-74cf-4d21-87ea-40a31041082b",
   "metadata": {},
   "source": [
    "### 5.7: Z Score\n",
    "- Z-score: Shows how many standard deviations a data point is from the mean.\n",
    "- Formula for Z-score: (x−μ)/σ\n",
    "- Uses: Comparing datasets and removing outliers.\n",
    "- Identifying Outliers: Typically, outliers are identified when the Z-score exceeds 3 or falls below -3."
   ]
  },
  {
   "cell_type": "markdown",
   "id": "1c4115d5-b794-486d-b5a5-b353b9842383",
   "metadata": {},
   "source": [
    "### 5.8: Standard Normal Distribution\n",
    "- SND: A bell-shaped curve with a mean of 0 and a standard deviation of 1.\n",
    "- Uses: Comparing datasets, calculating probabilities and in Z-tests to assess differences between means."
   ]
  }
 ],
 "metadata": {
  "kernelspec": {
   "display_name": "Python 3 (ipykernel)",
   "language": "python",
   "name": "python3"
  },
  "language_info": {
   "codemirror_mode": {
    "name": "ipython",
    "version": 3
   },
   "file_extension": ".py",
   "mimetype": "text/x-python",
   "name": "python",
   "nbconvert_exporter": "python",
   "pygments_lexer": "ipython3",
   "version": "3.10.11"
  }
 },
 "nbformat": 4,
 "nbformat_minor": 5
}
