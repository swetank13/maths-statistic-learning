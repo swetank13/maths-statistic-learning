{
 "cells": [
  {
   "cell_type": "markdown",
   "id": "1c9f89fb-f6f4-463f-97c9-8a8e6fc4dc1f",
   "metadata": {},
   "source": [
    "### 9.1: Null vs Alternate Hypothesis\n",
    "- Hypothesis testing is a statistical technique for decision-making or inferring population characteristics.\n",
    "- Null Hypothesis (H0): Represents a statement of no effect or no difference, serving as the benchmark in hypothesis testing.\n",
    "- Alternative Hypothesis (Ha): Proposes a new effect or difference, challenging the null hypothesis."
   ]
  },
  {
   "cell_type": "markdown",
   "id": "6304f11d-1ad1-4fb9-8775-1d48209acc9b",
   "metadata": {},
   "source": [
    "### 9.2: Z Test, Rejection Region\n",
    "- Z Test has 2 type\n",
    "  1. Rejection region\n",
    "  2. P-Value\n",
    "- Z-Test: A statistical test used to determine if there's a significant difference between sample and population means.\n",
    "- Significance Level (Alpha): Defines the threshold for rejecting the null hypothesis, commonly set at 0.05 or 5%.\n",
    "  - Formula: (1 - confidence interval)\n",
    "- Critical Z-Value (Z(crit)): The cut-off point in a Z-test distinguishing the rejection region for the null hypothesis.\n",
    "- Rejection Region: The area beyond the critical Z-value (Z(crit)) where, if the Z-score falls, the null hypothesis is rejected due to significant evidence."
   ]
  },
  {
   "cell_type": "markdown",
   "id": "41089699-9cad-4af0-93bd-c2b5cca066ce",
   "metadata": {},
   "source": [
    "### 9.6: Z Test, P-Value\n",
    "- P-Value: Assuming the null hypothesis is correct, what is the probability of obtaining results as extreme as observed in a statistical test.\n",
    "- If the p-value is less than the chosen significance level (e.g., 0.05), it suggests strong evidence against the null hypothesis, leading to its rejection."
   ]
  },
  {
   "cell_type": "markdown",
   "id": "8efdbcab-8955-44cf-8500-cac767f79a8b",
   "metadata": {},
   "source": [
    "### 9.10: One-Tailed vs Two-Tailed Test\n",
    "- One-Tail Test: Checks if a parameter is significantly different in one direction (greater or less).\n",
    "- Two-Tail Test: Evaluates if a parameter is significantly different in any direction (greater or less)."
   ]
  },
  {
   "cell_type": "markdown",
   "id": "26e92da7-46aa-42a7-8d0a-dbad713f432d",
   "metadata": {},
   "source": [
    "### 9.11: Type 1 and Type 2 Errors\n",
    "- Type 1 Error: Occurs when we incorrectly reject a true null hypothesis.\n",
    "- Type 2 Error: Occurs when we fail to reject a false null hypothesis.\n",
    "- Type 1 error is also known as a \"false positive\" while Type 2 error is a \"false negative\".\n",
    "- Beta (β): The probability of making a Type 2 error (false negative).\n",
    "- Statistical Power: The probability of correctly rejecting a false null hypothesis, equal to 1−β.\n",
    "- Balancing Type 1 and Type 2 errors is crucial in statistical analysis."
   ]
  },
  {
   "cell_type": "markdown",
   "id": "d195c217-aef6-4cef-8c7d-1b50c3d74219",
   "metadata": {},
   "source": [
    "### 9.13: Statistical power & effect size\n",
    "- Statistical power, denoted as 1−β1−β, represents the probability of correctly rejecting a false null hypothesis in a hypothesis test.\n",
    "- Effect size quantifies the magnitude of the difference or relationship between two groups or variables in a study."
   ]
  },
  {
   "cell_type": "markdown",
   "id": "6e82bca6-1465-4f6f-a829-2dc45b125898",
   "metadata": {},
   "source": [
    "### 9.14: A/B Testing\n",
    "- A/B Testing: Compares two versions (A and B) to determine which performs better based on user engagement and relevant metrics.\n",
    "- One-Sample Test: Used to check if a sample significantly differs from known population parameters.\n",
    "- Two-Sample Test: Compares two independent sample data sets to identify significant differences between their means or proportions."
   ]
  },
  {
   "cell_type": "markdown",
   "id": "36267e3f-a8a0-4af8-a8cd-57d5085c109c",
   "metadata": {},
   "source": [
    "### 9.15: A/B Testing using Z Test\n",
    "- Control group: Baseline for comparing experimental effects.\n",
    "- Test group: Subjects exposed to experimental treatment for evaluation.\n",
    "- Statistical tests:\n",
    "  - Use the Z-test when the sample size is >30.\n",
    "  - Use the T-test when the sample size is ≤30."
   ]
  },
  {
   "cell_type": "code",
   "execution_count": null,
   "id": "096e0f16-dbba-4082-ba2c-073b6175c647",
   "metadata": {},
   "outputs": [],
   "source": []
  }
 ],
 "metadata": {
  "kernelspec": {
   "display_name": "Python 3 (ipykernel)",
   "language": "python",
   "name": "python3"
  },
  "language_info": {
   "codemirror_mode": {
    "name": "ipython",
    "version": 3
   },
   "file_extension": ".py",
   "mimetype": "text/x-python",
   "name": "python",
   "nbconvert_exporter": "python",
   "pygments_lexer": "ipython3",
   "version": "3.10.11"
  }
 },
 "nbformat": 4,
 "nbformat_minor": 5
}
