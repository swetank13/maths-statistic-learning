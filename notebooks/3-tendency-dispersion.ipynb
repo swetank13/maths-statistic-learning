{
 "cells": [
  {
   "cell_type": "markdown",
   "id": "6e379fb6-a6d3-40af-8083-5a56b72038ca",
   "metadata": {},
   "source": [
    "<h2 align=\"center\">Measures Of Central Tendency and Dispersion</h2>"
   ]
  },
  {
   "cell_type": "markdown",
   "id": "d42a2892-992e-4477-a39f-7b904cb83127",
   "metadata": {},
   "source": [
    "### 3.1: Descriptive Vs Inferential Statistics\n",
    "- Inferential statistics involve making predictions or drawing conclusions about a population based on a sample.\n",
    "- Descriptive statistics are used to summarize and describe data, providing an overview of its main characteristics."
   ]
  },
  {
   "cell_type": "markdown",
   "id": "57b023c7-6bae-450f-8c05-4d3a45531d62",
   "metadata": {},
   "source": [
    "### 3.2, 3.3: Measures of Central Tendency: Mean, Median, Mode and Percentile\n",
    "- Mean – Synonym for Average.\n",
    "- Median – Middle value of a dataset when it is ordered in ascending order. If the dataset has an even number of values, the median is the average of the two middle values.\n",
    "- Mode – Most frequently occurring data value.\n",
    "- Percentile is a statistical measure used to rank a value within a dataset, indicating what percentage of the data falls below or is equal to that value."
   ]
  },
  {
   "cell_type": "markdown",
   "id": "b8bcf738-3213-4ef8-85c6-b939e36cc2fb",
   "metadata": {},
   "source": [
    "### 3.4: Shoe Sales Analysis"
   ]
  },
  {
   "cell_type": "code",
   "execution_count": 1,
   "id": "23f413ca-1c05-4a81-8161-131d2e4a897b",
   "metadata": {},
   "outputs": [],
   "source": [
    "import pandas as pd\n",
    "from matplotlib import pyplot as plt"
   ]
  },
  {
   "cell_type": "code",
   "execution_count": 2,
   "id": "901f9a96-3c5b-452a-bd08-2d0a3124964e",
   "metadata": {},
   "outputs": [
    {
     "data": {
      "text/html": [
       "<div>\n",
       "<style scoped>\n",
       "    .dataframe tbody tr th:only-of-type {\n",
       "        vertical-align: middle;\n",
       "    }\n",
       "\n",
       "    .dataframe tbody tr th {\n",
       "        vertical-align: top;\n",
       "    }\n",
       "\n",
       "    .dataframe thead th {\n",
       "        text-align: right;\n",
       "    }\n",
       "</style>\n",
       "<table border=\"1\" class=\"dataframe\">\n",
       "  <thead>\n",
       "    <tr style=\"text-align: right;\">\n",
       "      <th></th>\n",
       "      <th>date</th>\n",
       "      <th>brand</th>\n",
       "      <th>sold_qty</th>\n",
       "    </tr>\n",
       "  </thead>\n",
       "  <tbody>\n",
       "    <tr>\n",
       "      <th>0</th>\n",
       "      <td>9/1/2023</td>\n",
       "      <td>Nike</td>\n",
       "      <td>24.0</td>\n",
       "    </tr>\n",
       "    <tr>\n",
       "      <th>1</th>\n",
       "      <td>9/1/2023</td>\n",
       "      <td>Adidas</td>\n",
       "      <td>14.0</td>\n",
       "    </tr>\n",
       "    <tr>\n",
       "      <th>2</th>\n",
       "      <td>9/2/2023</td>\n",
       "      <td>Nike</td>\n",
       "      <td>21.0</td>\n",
       "    </tr>\n",
       "    <tr>\n",
       "      <th>3</th>\n",
       "      <td>9/2/2023</td>\n",
       "      <td>Adidas</td>\n",
       "      <td>12.0</td>\n",
       "    </tr>\n",
       "    <tr>\n",
       "      <th>4</th>\n",
       "      <td>9/3/2023</td>\n",
       "      <td>Nike</td>\n",
       "      <td>18.0</td>\n",
       "    </tr>\n",
       "  </tbody>\n",
       "</table>\n",
       "</div>"
      ],
      "text/plain": [
       "       date   brand  sold_qty\n",
       "0  9/1/2023    Nike      24.0\n",
       "1  9/1/2023  Adidas      14.0\n",
       "2  9/2/2023    Nike      21.0\n",
       "3  9/2/2023  Adidas      12.0\n",
       "4  9/3/2023    Nike      18.0"
      ]
     },
     "execution_count": 2,
     "metadata": {},
     "output_type": "execute_result"
    }
   ],
   "source": [
    "# Load Data\n",
    "df = pd.read_csv(\"../data/shoe_sales.csv\")\n",
    "df.head()"
   ]
  },
  {
   "cell_type": "code",
   "execution_count": 3,
   "id": "b874f5a9-756b-4510-ae29-4db8dff6cda8",
   "metadata": {},
   "outputs": [
    {
     "data": {
      "text/plain": [
       "(60, 3)"
      ]
     },
     "execution_count": 3,
     "metadata": {},
     "output_type": "execute_result"
    }
   ],
   "source": [
    "df.shape"
   ]
  },
  {
   "cell_type": "code",
   "execution_count": 4,
   "id": "4777eda0-1ae5-4379-9c1b-643fba618578",
   "metadata": {},
   "outputs": [
    {
     "data": {
      "text/html": [
       "<div>\n",
       "<style scoped>\n",
       "    .dataframe tbody tr th:only-of-type {\n",
       "        vertical-align: middle;\n",
       "    }\n",
       "\n",
       "    .dataframe tbody tr th {\n",
       "        vertical-align: top;\n",
       "    }\n",
       "\n",
       "    .dataframe thead th {\n",
       "        text-align: right;\n",
       "    }\n",
       "</style>\n",
       "<table border=\"1\" class=\"dataframe\">\n",
       "  <thead>\n",
       "    <tr style=\"text-align: right;\">\n",
       "      <th></th>\n",
       "      <th>sold_qty</th>\n",
       "    </tr>\n",
       "  </thead>\n",
       "  <tbody>\n",
       "    <tr>\n",
       "      <th>count</th>\n",
       "      <td>58.000000</td>\n",
       "    </tr>\n",
       "    <tr>\n",
       "      <th>mean</th>\n",
       "      <td>27.482759</td>\n",
       "    </tr>\n",
       "    <tr>\n",
       "      <th>std</th>\n",
       "      <td>88.519844</td>\n",
       "    </tr>\n",
       "    <tr>\n",
       "      <th>min</th>\n",
       "      <td>7.000000</td>\n",
       "    </tr>\n",
       "    <tr>\n",
       "      <th>25%</th>\n",
       "      <td>12.250000</td>\n",
       "    </tr>\n",
       "    <tr>\n",
       "      <th>50%</th>\n",
       "      <td>16.000000</td>\n",
       "    </tr>\n",
       "    <tr>\n",
       "      <th>75%</th>\n",
       "      <td>19.750000</td>\n",
       "    </tr>\n",
       "    <tr>\n",
       "      <th>max</th>\n",
       "      <td>689.000000</td>\n",
       "    </tr>\n",
       "  </tbody>\n",
       "</table>\n",
       "</div>"
      ],
      "text/plain": [
       "         sold_qty\n",
       "count   58.000000\n",
       "mean    27.482759\n",
       "std     88.519844\n",
       "min      7.000000\n",
       "25%     12.250000\n",
       "50%     16.000000\n",
       "75%     19.750000\n",
       "max    689.000000"
      ]
     },
     "execution_count": 4,
     "metadata": {},
     "output_type": "execute_result"
    }
   ],
   "source": [
    "df.describe()"
   ]
  },
  {
   "cell_type": "markdown",
   "id": "d6e0ba48-8dfd-423e-94eb-f36df9e5e1f4",
   "metadata": {},
   "source": [
    "We see 12.25 in 25% percentile which means 25% of total values are less than 12.25"
   ]
  },
  {
   "cell_type": "code",
   "execution_count": 5,
   "id": "e5e9be3d-fbdf-429d-ba25-68b5cd26540e",
   "metadata": {},
   "outputs": [
    {
     "data": {
      "text/plain": [
       "(15,)"
      ]
     },
     "execution_count": 5,
     "metadata": {},
     "output_type": "execute_result"
    }
   ],
   "source": [
    "df.sold_qty[df.sold_qty<12.25].shape"
   ]
  },
  {
   "cell_type": "markdown",
   "id": "3c7b1004-57a9-4fcb-9713-b95feb938beb",
   "metadata": {},
   "source": [
    "- Total values = 60\n",
    "- 25% of total values = 60*0.25 = 15\n",
    "- Hence you see 15 above when you use 25% percentile value (which is 12.25) to filter the data"
   ]
  },
  {
   "cell_type": "markdown",
   "id": "67ff7b58-eb3e-4af2-a7f8-bfab9f27b455",
   "metadata": {},
   "source": [
    "- Now let's do some min, max analysis\n",
    "- Minimum sales quantity is 7 whereas max is 689. There is a possibility it can be an outlier. \n",
    "- We will first separate these values out as per the brand and then do some basic plotting to figure out whats going on"
   ]
  },
  {
   "cell_type": "code",
   "execution_count": 6,
   "id": "5efe1766-ba62-4c88-8449-12c4684963c5",
   "metadata": {},
   "outputs": [
    {
     "data": {
      "text/plain": [
       "(30, 3)"
      ]
     },
     "execution_count": 6,
     "metadata": {},
     "output_type": "execute_result"
    }
   ],
   "source": [
    "# Nike sales analysis\n",
    "df_nike = df[df.brand==\"Nike\"]\n",
    "df_nike.shape"
   ]
  },
  {
   "cell_type": "code",
   "execution_count": 7,
   "id": "c0922efc-f24a-4cc9-bb1a-9e0da05e3389",
   "metadata": {},
   "outputs": [
    {
     "data": {
      "text/html": [
       "<div>\n",
       "<style scoped>\n",
       "    .dataframe tbody tr th:only-of-type {\n",
       "        vertical-align: middle;\n",
       "    }\n",
       "\n",
       "    .dataframe tbody tr th {\n",
       "        vertical-align: top;\n",
       "    }\n",
       "\n",
       "    .dataframe thead th {\n",
       "        text-align: right;\n",
       "    }\n",
       "</style>\n",
       "<table border=\"1\" class=\"dataframe\">\n",
       "  <thead>\n",
       "    <tr style=\"text-align: right;\">\n",
       "      <th></th>\n",
       "      <th>date</th>\n",
       "      <th>brand</th>\n",
       "      <th>sold_qty</th>\n",
       "    </tr>\n",
       "  </thead>\n",
       "  <tbody>\n",
       "    <tr>\n",
       "      <th>0</th>\n",
       "      <td>9/1/2023</td>\n",
       "      <td>Nike</td>\n",
       "      <td>24.0</td>\n",
       "    </tr>\n",
       "    <tr>\n",
       "      <th>2</th>\n",
       "      <td>9/2/2023</td>\n",
       "      <td>Nike</td>\n",
       "      <td>21.0</td>\n",
       "    </tr>\n",
       "    <tr>\n",
       "      <th>4</th>\n",
       "      <td>9/3/2023</td>\n",
       "      <td>Nike</td>\n",
       "      <td>18.0</td>\n",
       "    </tr>\n",
       "    <tr>\n",
       "      <th>6</th>\n",
       "      <td>9/4/2023</td>\n",
       "      <td>Nike</td>\n",
       "      <td>22.0</td>\n",
       "    </tr>\n",
       "    <tr>\n",
       "      <th>8</th>\n",
       "      <td>9/5/2023</td>\n",
       "      <td>Nike</td>\n",
       "      <td>20.0</td>\n",
       "    </tr>\n",
       "  </tbody>\n",
       "</table>\n",
       "</div>"
      ],
      "text/plain": [
       "       date brand  sold_qty\n",
       "0  9/1/2023  Nike      24.0\n",
       "2  9/2/2023  Nike      21.0\n",
       "4  9/3/2023  Nike      18.0\n",
       "6  9/4/2023  Nike      22.0\n",
       "8  9/5/2023  Nike      20.0"
      ]
     },
     "execution_count": 7,
     "metadata": {},
     "output_type": "execute_result"
    }
   ],
   "source": [
    "df_nike.head()"
   ]
  },
  {
   "cell_type": "code",
   "execution_count": 8,
   "id": "3e81ad46-3fb7-41a7-979f-1abceefac9e8",
   "metadata": {},
   "outputs": [
    {
     "data": {
      "text/plain": [
       "date        0\n",
       "brand       0\n",
       "sold_qty    2\n",
       "dtype: int64"
      ]
     },
     "execution_count": 8,
     "metadata": {},
     "output_type": "execute_result"
    }
   ],
   "source": [
    "# Handle NA values\n",
    "df_nike.isnull().sum()"
   ]
  },
  {
   "cell_type": "code",
   "execution_count": 9,
   "id": "e2e763c0-9fd3-4dbd-bd02-a9a0edbbac82",
   "metadata": {},
   "outputs": [
    {
     "data": {
      "text/html": [
       "<div>\n",
       "<style scoped>\n",
       "    .dataframe tbody tr th:only-of-type {\n",
       "        vertical-align: middle;\n",
       "    }\n",
       "\n",
       "    .dataframe tbody tr th {\n",
       "        vertical-align: top;\n",
       "    }\n",
       "\n",
       "    .dataframe thead th {\n",
       "        text-align: right;\n",
       "    }\n",
       "</style>\n",
       "<table border=\"1\" class=\"dataframe\">\n",
       "  <thead>\n",
       "    <tr style=\"text-align: right;\">\n",
       "      <th></th>\n",
       "      <th>date</th>\n",
       "      <th>brand</th>\n",
       "      <th>sold_qty</th>\n",
       "    </tr>\n",
       "  </thead>\n",
       "  <tbody>\n",
       "    <tr>\n",
       "      <th>32</th>\n",
       "      <td>9/17/2023</td>\n",
       "      <td>Nike</td>\n",
       "      <td>NaN</td>\n",
       "    </tr>\n",
       "    <tr>\n",
       "      <th>48</th>\n",
       "      <td>9/25/2023</td>\n",
       "      <td>Nike</td>\n",
       "      <td>NaN</td>\n",
       "    </tr>\n",
       "  </tbody>\n",
       "</table>\n",
       "</div>"
      ],
      "text/plain": [
       "         date brand  sold_qty\n",
       "32  9/17/2023  Nike       NaN\n",
       "48  9/25/2023  Nike       NaN"
      ]
     },
     "execution_count": 9,
     "metadata": {},
     "output_type": "execute_result"
    }
   ],
   "source": [
    "df_nike[df_nike.sold_qty.isnull()]"
   ]
  },
  {
   "cell_type": "code",
   "execution_count": 10,
   "id": "70a674a8-4944-4497-a9db-502232d43c00",
   "metadata": {},
   "outputs": [
    {
     "data": {
      "text/plain": [
       "20"
      ]
     },
     "execution_count": 10,
     "metadata": {},
     "output_type": "execute_result"
    }
   ],
   "source": [
    "## Now how should we fill NA values for sold_qty? Using median is one way\n",
    "val = round(df_nike.sold_qty.median())\n",
    "val"
   ]
  },
  {
   "cell_type": "code",
   "execution_count": 13,
   "id": "e6abba8a-1f64-433f-8e70-a252907caba0",
   "metadata": {},
   "outputs": [
    {
     "name": "stderr",
     "output_type": "stream",
     "text": [
      "C:\\Users\\sweanand\\AppData\\Local\\Temp\\ipykernel_18520\\3809410123.py:1: SettingWithCopyWarning: \n",
      "A value is trying to be set on a copy of a slice from a DataFrame\n",
      "\n",
      "See the caveats in the documentation: https://pandas.pydata.org/pandas-docs/stable/user_guide/indexing.html#returning-a-view-versus-a-copy\n",
      "  df_nike.sold_qty.fillna(val, inplace=True)\n"
     ]
    }
   ],
   "source": [
    "df_nike.sold_qty.fillna(val, inplace=True)"
   ]
  },
  {
   "cell_type": "code",
   "execution_count": 14,
   "id": "a03fa14c-bf14-4aff-8455-f96983eb06e1",
   "metadata": {},
   "outputs": [
    {
     "data": {
      "text/plain": [
       "date        0\n",
       "brand       0\n",
       "sold_qty    0\n",
       "dtype: int64"
      ]
     },
     "execution_count": 14,
     "metadata": {},
     "output_type": "execute_result"
    }
   ],
   "source": [
    "df_nike.isnull().sum()"
   ]
  },
  {
   "cell_type": "code",
   "execution_count": 15,
   "id": "2ea29024-d562-4648-ae78-bb9f3e6cd19e",
   "metadata": {},
   "outputs": [
    {
     "data": {
      "text/plain": [
       "590.0"
      ]
     },
     "execution_count": 15,
     "metadata": {},
     "output_type": "execute_result"
    }
   ],
   "source": [
    "df_nike.sold_qty.sum()"
   ]
  },
  {
   "cell_type": "markdown",
   "id": "89f604eb-23b8-4b71-8584-c1162ab54179",
   "metadata": {},
   "source": [
    "##### Nike Shoe Sales Insights\n",
    "1. On average we sell 20 nike shoes per day\n",
    "2. The daily sales range is 14 to 25\n",
    "3. In september month we sold 590 adidas shoes"
   ]
  },
  {
   "cell_type": "markdown",
   "id": "bf1976b8-a1c2-46d4-ab64-d6047dbc8f11",
   "metadata": {},
   "source": [
    "### 3.7: Measures of Dispersion (Variability): Range, IQR\n",
    "- \"IQR\" and \"Range\" also referred to as measures of dispersion or variability.\n",
    "- Range, calculated as Maximum Value - Minimum Value, reflects data spread.\n",
    "- Unlike Range, IQR (Inter Quartile Range) is less influenced by outliers, making it a robust measure.\n",
    "- Quartile Q1, Q2, and Q3 correspond to the 25th, 50th, and 75th percentiles, respectively.\n",
    "- The 50th percentile is commonly known as the median.\n",
    "- IQR is the difference between Q3 and Q1 showing the spread of the middle 50% of data."
   ]
  },
  {
   "attachments": {
    "ac265258-915a-4151-a2ba-d79b1d92ea87.png": {
     "image/png": "[encoded data removed]"
    }
   },
   "cell_type": "markdown",
   "id": "da0bb404-c59d-4df3-9c43-bea96c286193",
   "metadata": {},
   "source": [
    "### 3.8: Box and whisker plot\n",
    "- Box/Whisker Plots provide a visual summary of the central tendency, spread, and presence of outliers in a dataset.\n",
    "- The \"box\" in a Box Plot shows the middle 50% of the data, with the line inside representing the median. It gives insights into the central data values and their spread.\n",
    "- The \"whiskers\" in a Box Plot show the minimum and maximum values within a specific range.\n",
    "- <img src=\"attachment:ac265258-915a-4151-a2ba-d79b1d92ea87.png\" width=\"200\" height=\"10\" />"
   ]
  },
  {
   "cell_type": "markdown",
   "id": "215514e8-f79d-4073-9ec0-9b9ec7380378",
   "metadata": {},
   "source": [
    "### 3.9: Outlier Treatment using IQR and Box plot\n",
    "- The Interquartile Range (IQR) is determined by subtracting the first quartile (Q1) from the third quartile (Q3).\n",
    "  - lower_limit = (Q1 - (1.5 * IQR))\n",
    "  - upper_limit = (Q3 + (1.5 * IQR))"
   ]
  },
  {
   "cell_type": "code",
   "execution_count": 1,
   "id": "426a5c6a-e57f-4e18-85d2-8908ebc3ccab",
   "metadata": {},
   "outputs": [
    {
     "data": {
      "text/html": [
       "<div>\n",
       "<style scoped>\n",
       "    .dataframe tbody tr th:only-of-type {\n",
       "        vertical-align: middle;\n",
       "    }\n",
       "\n",
       "    .dataframe tbody tr th {\n",
       "        vertical-align: top;\n",
       "    }\n",
       "\n",
       "    .dataframe thead th {\n",
       "        text-align: right;\n",
       "    }\n",
       "</style>\n",
       "<table border=\"1\" class=\"dataframe\">\n",
       "  <thead>\n",
       "    <tr style=\"text-align: right;\">\n",
       "      <th></th>\n",
       "      <th>name</th>\n",
       "      <th>height</th>\n",
       "    </tr>\n",
       "  </thead>\n",
       "  <tbody>\n",
       "    <tr>\n",
       "      <th>0</th>\n",
       "      <td>mohan</td>\n",
       "      <td>1.2</td>\n",
       "    </tr>\n",
       "    <tr>\n",
       "      <th>1</th>\n",
       "      <td>maria</td>\n",
       "      <td>4.6</td>\n",
       "    </tr>\n",
       "    <tr>\n",
       "      <th>2</th>\n",
       "      <td>sakib</td>\n",
       "      <td>4.9</td>\n",
       "    </tr>\n",
       "    <tr>\n",
       "      <th>3</th>\n",
       "      <td>tao</td>\n",
       "      <td>5.1</td>\n",
       "    </tr>\n",
       "    <tr>\n",
       "      <th>4</th>\n",
       "      <td>virat</td>\n",
       "      <td>5.2</td>\n",
       "    </tr>\n",
       "  </tbody>\n",
       "</table>\n",
       "</div>"
      ],
      "text/plain": [
       "    name  height\n",
       "0  mohan     1.2\n",
       "1  maria     4.6\n",
       "2  sakib     4.9\n",
       "3    tao     5.1\n",
       "4  virat     5.2"
      ]
     },
     "execution_count": 1,
     "metadata": {},
     "output_type": "execute_result"
    }
   ],
   "source": [
    "import pandas as pd\n",
    "\n",
    "df = pd.read_csv(\"../data/heights.csv\")\n",
    "df.head()"
   ]
  },
  {
   "cell_type": "code",
   "execution_count": 2,
   "id": "7ebd1e77-6183-4920-85de-7dedc69c1238",
   "metadata": {},
   "outputs": [
    {
     "data": {
      "text/plain": [
       "(5.3500000000000005, 6.275)"
      ]
     },
     "execution_count": 2,
     "metadata": {},
     "output_type": "execute_result"
    }
   ],
   "source": [
    "Q1, Q3 = df.height.quantile([0.25,0.75])\n",
    "Q1, Q3"
   ]
  },
  {
   "cell_type": "code",
   "execution_count": 3,
   "id": "ded4befd-e128-4163-a77f-69e847ea5cfc",
   "metadata": {},
   "outputs": [
    {
     "data": {
      "text/plain": [
       "0.9249999999999998"
      ]
     },
     "execution_count": 3,
     "metadata": {},
     "output_type": "execute_result"
    }
   ],
   "source": [
    "IQR = Q3-Q1\n",
    "IQR"
   ]
  },
  {
   "cell_type": "code",
   "execution_count": 4,
   "id": "b4a307c1-a9ff-4747-ac27-b785eb09fe83",
   "metadata": {},
   "outputs": [
    {
     "data": {
      "text/plain": [
       "(3.962500000000001, 7.6625)"
      ]
     },
     "execution_count": 4,
     "metadata": {},
     "output_type": "execute_result"
    }
   ],
   "source": [
    "# Find lower and upper boundries for outlier detection\n",
    "lower = Q1 - 1.5*IQR\n",
    "upper = Q3 + 1.5*IQR\n",
    "lower, upper"
   ]
  },
  {
   "cell_type": "code",
   "execution_count": 5,
   "id": "986bf05f-79d4-4bb8-8e7c-8aaea89f3bec",
   "metadata": {},
   "outputs": [
    {
     "data": {
      "text/html": [
       "<div>\n",
       "<style scoped>\n",
       "    .dataframe tbody tr th:only-of-type {\n",
       "        vertical-align: middle;\n",
       "    }\n",
       "\n",
       "    .dataframe tbody tr th {\n",
       "        vertical-align: top;\n",
       "    }\n",
       "\n",
       "    .dataframe thead th {\n",
       "        text-align: right;\n",
       "    }\n",
       "</style>\n",
       "<table border=\"1\" class=\"dataframe\">\n",
       "  <thead>\n",
       "    <tr style=\"text-align: right;\">\n",
       "      <th></th>\n",
       "      <th>name</th>\n",
       "      <th>height</th>\n",
       "    </tr>\n",
       "  </thead>\n",
       "  <tbody>\n",
       "    <tr>\n",
       "      <th>0</th>\n",
       "      <td>mohan</td>\n",
       "      <td>1.2</td>\n",
       "    </tr>\n",
       "    <tr>\n",
       "      <th>19</th>\n",
       "      <td>Liu</td>\n",
       "      <td>40.2</td>\n",
       "    </tr>\n",
       "  </tbody>\n",
       "</table>\n",
       "</div>"
      ],
      "text/plain": [
       "     name  height\n",
       "0   mohan     1.2\n",
       "19    Liu    40.2"
      ]
     },
     "execution_count": 5,
     "metadata": {},
     "output_type": "execute_result"
    }
   ],
   "source": [
    "df[(df.height<lower)|(df.height>upper)]"
   ]
  },
  {
   "cell_type": "markdown",
   "id": "2089a919-b333-4c6f-b83e-6267cb01fb32",
   "metadata": {},
   "source": [
    "Above shows two outliers in our dataset."
   ]
  },
  {
   "cell_type": "markdown",
   "id": "96a3d0cd-bb0a-486c-b72f-82511342e089",
   "metadata": {},
   "source": [
    "##### Outlier detection using box plot"
   ]
  },
  {
   "cell_type": "code",
   "execution_count": 1,
   "id": "28f95405-fba9-432f-a5a3-35122a340d84",
   "metadata": {},
   "outputs": [
    {
     "data": {
      "text/html": [
       "<div>\n",
       "<style scoped>\n",
       "    .dataframe tbody tr th:only-of-type {\n",
       "        vertical-align: middle;\n",
       "    }\n",
       "\n",
       "    .dataframe tbody tr th {\n",
       "        vertical-align: top;\n",
       "    }\n",
       "\n",
       "    .dataframe thead th {\n",
       "        text-align: right;\n",
       "    }\n",
       "</style>\n",
       "<table border=\"1\" class=\"dataframe\">\n",
       "  <thead>\n",
       "    <tr style=\"text-align: right;\">\n",
       "      <th></th>\n",
       "      <th>Month</th>\n",
       "      <th>Year</th>\n",
       "      <th>Region</th>\n",
       "      <th>Sales</th>\n",
       "    </tr>\n",
       "  </thead>\n",
       "  <tbody>\n",
       "    <tr>\n",
       "      <th>0</th>\n",
       "      <td>January</td>\n",
       "      <td>2022</td>\n",
       "      <td>APAC</td>\n",
       "      <td>36750</td>\n",
       "    </tr>\n",
       "    <tr>\n",
       "      <th>1</th>\n",
       "      <td>February</td>\n",
       "      <td>2022</td>\n",
       "      <td>APAC</td>\n",
       "      <td>36995</td>\n",
       "    </tr>\n",
       "    <tr>\n",
       "      <th>2</th>\n",
       "      <td>March</td>\n",
       "      <td>2022</td>\n",
       "      <td>APAC</td>\n",
       "      <td>18579</td>\n",
       "    </tr>\n",
       "    <tr>\n",
       "      <th>3</th>\n",
       "      <td>April</td>\n",
       "      <td>2022</td>\n",
       "      <td>APAC</td>\n",
       "      <td>37768</td>\n",
       "    </tr>\n",
       "    <tr>\n",
       "      <th>4</th>\n",
       "      <td>May</td>\n",
       "      <td>2022</td>\n",
       "      <td>APAC</td>\n",
       "      <td>23956</td>\n",
       "    </tr>\n",
       "  </tbody>\n",
       "</table>\n",
       "</div>"
      ],
      "text/plain": [
       "      Month  Year Region  Sales\n",
       "0   January  2022   APAC  36750\n",
       "1  February  2022   APAC  36995\n",
       "2     March  2022   APAC  18579\n",
       "3     April  2022   APAC  37768\n",
       "4       May  2022   APAC  23956"
      ]
     },
     "execution_count": 1,
     "metadata": {},
     "output_type": "execute_result"
    }
   ],
   "source": [
    "import pandas as pd\n",
    "import matplotlib.pyplot as plt\n",
    "\n",
    "# make sure to install openpyxl using \"pip install openpyxl\" before running below code\n",
    "df = pd.read_excel(\"../data/region_wise_sales.xlsx\")\n",
    "df.head()"
   ]
  },
  {
   "cell_type": "code",
   "execution_count": 5,
   "id": "2cf02160-3aa9-48b8-9a26-1c53fb10a42f",
   "metadata": {},
   "outputs": [
    {
     "data": {
      "text/plain": [
       "array(['APAC', 'Europe', 'Americas'], dtype=object)"
      ]
     },
     "execution_count": 5,
     "metadata": {},
     "output_type": "execute_result"
    }
   ],
   "source": [
    "labels = df.Region.unique()\n",
    "labels"
   ]
  },
  {
   "cell_type": "code",
   "execution_count": 9,
   "id": "85b436d4-7060-434f-b911-8924907a1363",
   "metadata": {},
   "outputs": [
    {
     "data": {
      "text/plain": [
       "[array([36750, 36995, 18579, 37768, 23956, 38143, 29132, 21961, 33299,\n",
       "        37279, 21388, 21896], dtype=int64),\n",
       " array([ 9665, 10297, 11079, 13410, 11229, 15352, 13286, 11470, 11873,\n",
       "        23000, 12215, 14895], dtype=int64),\n",
       " array([30247, 29284, 27904, 23407, 23716, 25077, 33649, 24560, 34102,\n",
       "        28257, 30691, 29387], dtype=int64)]"
      ]
     },
     "execution_count": 9,
     "metadata": {},
     "output_type": "execute_result"
    }
   ],
   "source": [
    "plot_data = [df['Sales'][df['Region'] == label].values for label in labels]\n",
    "plot_data"
   ]
  },
  {
   "cell_type": "code",
   "execution_count": 10,
   "id": "ccbc0960-b220-4aed-bd97-e6b3d3285c96",
   "metadata": {},
   "outputs": [
    {
     "name": "stderr",
     "output_type": "stream",
     "text": [
      "C:\\Users\\sweanand\\AppData\\Local\\Temp\\ipykernel_24320\\479961180.py:2: MatplotlibDeprecationWarning: The 'labels' parameter of boxplot() has been renamed 'tick_labels' since Matplotlib 3.9; support for the old name will be dropped in 3.11.\n",
      "  plt.boxplot(plot_data, labels=labels, vert=True, patch_artist=True)\n"
     ]
    },
    {
     "data": {
      "image/png": "[encoded data removed]",
      "text/plain": [
       "<Figure size 1200x800 with 1 Axes>"
      ]
     },
     "metadata": {},
     "output_type": "display_data"
    }
   ],
   "source": [
    "plt.figure(figsize=(12, 8))\n",
    "plt.boxplot(plot_data, labels=labels, vert=True, patch_artist=True)\n",
    "plt.title('Box plot of Sales by Region and Year')\n",
    "plt.ylabel('Sales')\n",
    "plt.xticks(rotation=45)  # Rotate x-axis labels for better readability\n",
    "plt.tight_layout()\n",
    "plt.show()"
   ]
  },
  {
   "cell_type": "markdown",
   "id": "2ea60c02-61f4-4ccc-9753-289e48bbbe8f",
   "metadata": {},
   "source": [
    "You can clearly see an outlier point above Europe box plot. This shows how one can use a box plot to spot outliers"
   ]
  },
  {
   "cell_type": "markdown",
   "id": "41055d4a-26ab-49ac-9ffb-d5bc33e8c1d2",
   "metadata": {},
   "source": [
    "### 3.12: Measures of Dispersion: Variance and Standard Deviation"
   ]
  },
  {
   "cell_type": "markdown",
   "id": "6a917f28-d32a-425d-a323-f2932afe6faf",
   "metadata": {},
   "source": [
    "- Variance is a measure of how spread out a distribution is. It means How far each number is from every other number in a dataset. It is calculated as the average of the squared differences from the mean.\n",
    "- The smaller the variance, the less spread out the data is. Conversely, the larger the variance, the more spread out the data is.\n",
    "- Standard deviation is a measure of the amount of variation or dispersion of a set of values. It is calculated as the square root of the variance.\n",
    "- The smaller the standard deviation, the closer the data points are to the mean. Conversely, the larger the standard deviation, the more spread out the data points are.\n",
    "- The stock market's volatility is the best use case for variance and standard deviation."
   ]
  },
  {
   "cell_type": "code",
   "execution_count": 12,
   "id": "5a226281-39e3-43fd-8fd0-64809ff3cc8d",
   "metadata": {},
   "outputs": [
    {
     "data": {
      "text/html": [
       "<div>\n",
       "<style scoped>\n",
       "    .dataframe tbody tr th:only-of-type {\n",
       "        vertical-align: middle;\n",
       "    }\n",
       "\n",
       "    .dataframe tbody tr th {\n",
       "        vertical-align: top;\n",
       "    }\n",
       "\n",
       "    .dataframe thead th {\n",
       "        text-align: right;\n",
       "    }\n",
       "</style>\n",
       "<table border=\"1\" class=\"dataframe\">\n",
       "  <thead>\n",
       "    <tr style=\"text-align: right;\">\n",
       "      <th></th>\n",
       "      <th>year</th>\n",
       "      <th>nvidia_returns</th>\n",
       "      <th>reliance_returns</th>\n",
       "    </tr>\n",
       "  </thead>\n",
       "  <tbody>\n",
       "    <tr>\n",
       "      <th>0</th>\n",
       "      <td>2016</td>\n",
       "      <td>122.14</td>\n",
       "      <td>47.43</td>\n",
       "    </tr>\n",
       "    <tr>\n",
       "      <th>1</th>\n",
       "      <td>2017</td>\n",
       "      <td>83.91</td>\n",
       "      <td>12.09</td>\n",
       "    </tr>\n",
       "    <tr>\n",
       "      <th>2</th>\n",
       "      <td>2018</td>\n",
       "      <td>-50.03</td>\n",
       "      <td>-13.63</td>\n",
       "    </tr>\n",
       "    <tr>\n",
       "      <th>3</th>\n",
       "      <td>2019</td>\n",
       "      <td>82.19</td>\n",
       "      <td>22.42</td>\n",
       "    </tr>\n",
       "    <tr>\n",
       "      <th>4</th>\n",
       "      <td>2020</td>\n",
       "      <td>125.84</td>\n",
       "      <td>62.59</td>\n",
       "    </tr>\n",
       "  </tbody>\n",
       "</table>\n",
       "</div>"
      ],
      "text/plain": [
       "   year  nvidia_returns  reliance_returns\n",
       "0  2016          122.14             47.43\n",
       "1  2017           83.91             12.09\n",
       "2  2018          -50.03            -13.63\n",
       "3  2019           82.19             22.42\n",
       "4  2020          125.84             62.59"
      ]
     },
     "execution_count": 12,
     "metadata": {},
     "output_type": "execute_result"
    }
   ],
   "source": [
    "import pandas as pd\n",
    "df = pd.read_csv(\"../data/stock_returns.csv\")\n",
    "df.head()"
   ]
  },
  {
   "cell_type": "code",
   "execution_count": 13,
   "id": "32c2e5d2-2c0e-4573-ba49-170f9c023857",
   "metadata": {},
   "outputs": [
    {
     "data": {
      "text/html": [
       "<div>\n",
       "<style scoped>\n",
       "    .dataframe tbody tr th:only-of-type {\n",
       "        vertical-align: middle;\n",
       "    }\n",
       "\n",
       "    .dataframe tbody tr th {\n",
       "        vertical-align: top;\n",
       "    }\n",
       "\n",
       "    .dataframe thead th {\n",
       "        text-align: right;\n",
       "    }\n",
       "</style>\n",
       "<table border=\"1\" class=\"dataframe\">\n",
       "  <thead>\n",
       "    <tr style=\"text-align: right;\">\n",
       "      <th></th>\n",
       "      <th>year</th>\n",
       "      <th>nvidia_returns</th>\n",
       "      <th>reliance_returns</th>\n",
       "    </tr>\n",
       "  </thead>\n",
       "  <tbody>\n",
       "    <tr>\n",
       "      <th>count</th>\n",
       "      <td>7.000000</td>\n",
       "      <td>7.000000</td>\n",
       "      <td>7.000000</td>\n",
       "    </tr>\n",
       "    <tr>\n",
       "      <th>mean</th>\n",
       "      <td>2019.000000</td>\n",
       "      <td>66.164286</td>\n",
       "      <td>24.980000</td>\n",
       "    </tr>\n",
       "    <tr>\n",
       "      <th>std</th>\n",
       "      <td>2.160247</td>\n",
       "      <td>59.611670</td>\n",
       "      <td>25.412166</td>\n",
       "    </tr>\n",
       "    <tr>\n",
       "      <th>min</th>\n",
       "      <td>2016.000000</td>\n",
       "      <td>-50.030000</td>\n",
       "      <td>-13.630000</td>\n",
       "    </tr>\n",
       "    <tr>\n",
       "      <th>25%</th>\n",
       "      <td>2017.500000</td>\n",
       "      <td>49.550000</td>\n",
       "      <td>11.175000</td>\n",
       "    </tr>\n",
       "    <tr>\n",
       "      <th>50%</th>\n",
       "      <td>2019.000000</td>\n",
       "      <td>82.190000</td>\n",
       "      <td>22.420000</td>\n",
       "    </tr>\n",
       "    <tr>\n",
       "      <th>75%</th>\n",
       "      <td>2020.500000</td>\n",
       "      <td>103.025000</td>\n",
       "      <td>40.565000</td>\n",
       "    </tr>\n",
       "    <tr>\n",
       "      <th>max</th>\n",
       "      <td>2022.000000</td>\n",
       "      <td>125.840000</td>\n",
       "      <td>62.590000</td>\n",
       "    </tr>\n",
       "  </tbody>\n",
       "</table>\n",
       "</div>"
      ],
      "text/plain": [
       "              year  nvidia_returns  reliance_returns\n",
       "count     7.000000        7.000000          7.000000\n",
       "mean   2019.000000       66.164286         24.980000\n",
       "std       2.160247       59.611670         25.412166\n",
       "min    2016.000000      -50.030000        -13.630000\n",
       "25%    2017.500000       49.550000         11.175000\n",
       "50%    2019.000000       82.190000         22.420000\n",
       "75%    2020.500000      103.025000         40.565000\n",
       "max    2022.000000      125.840000         62.590000"
      ]
     },
     "execution_count": 13,
     "metadata": {},
     "output_type": "execute_result"
    }
   ],
   "source": [
    "df.describe()"
   ]
  },
  {
   "cell_type": "code",
   "execution_count": 14,
   "id": "a5d3f884-0584-4042-87c0-e58a7c1a306e",
   "metadata": {},
   "outputs": [
    {
     "data": {
      "text/plain": [
       "(59.61166995847453, 3553.551195238095)"
      ]
     },
     "execution_count": 14,
     "metadata": {},
     "output_type": "execute_result"
    }
   ],
   "source": [
    "df.nvidia_returns.std(), df.nvidia_returns.var()"
   ]
  },
  {
   "cell_type": "code",
   "execution_count": 15,
   "id": "234677e6-e1c8-449c-9175-bbec37c8d8f2",
   "metadata": {},
   "outputs": [
    {
     "data": {
      "text/plain": [
       "(25.41216637754444, 645.7782000000001)"
      ]
     },
     "execution_count": 15,
     "metadata": {},
     "output_type": "execute_result"
    }
   ],
   "source": [
    "df.reliance_returns.std(), df.reliance_returns.var()"
   ]
  },
  {
   "cell_type": "markdown",
   "id": "22faa8c2-7a4a-4420-b123-11529ff5010f",
   "metadata": {},
   "source": [
    "### 3.14,15: Correlation and Causation"
   ]
  },
  {
   "cell_type": "markdown",
   "id": "3ec1f163-d081-4415-beee-9393b185a646",
   "metadata": {},
   "source": [
    "- Correlation is a statistical measure that shows the degree to which two variables are related.\n",
    "- A correlation coefficient can range from -1 to 1.\n",
    "- -1 (perfect negative correlation) < 0 (no correlation) < 1 (perfect positive correlation)\n",
    "- Correlation: A statistical relationship between two variables, where changes in one variable are associated with changes in another, but it does not imply causation.\n",
    "  - Example: Correlation example: Ice cream sales and drowning incidents often increase together during summer months. These two variables are correlated because both increase in warm weather. However, buying ice cream does not cause drowning incidents\n",
    "- Causation: A cause-and-effect relationship between variables, where changes in one variable directly lead to changes in another.\n",
    "  - Example: Smoking causes an increase in the risk of lung cancer. Here, smoking is the direct cause, and the increase in lung cancer cases is the effect."
   ]
  }
 ],
 "metadata": {
  "kernelspec": {
   "display_name": "Python 3 (ipykernel)",
   "language": "python",
   "name": "python3"
  },
  "language_info": {
   "codemirror_mode": {
    "name": "ipython",
    "version": 3
   },
   "file_extension": ".py",
   "mimetype": "text/x-python",
   "name": "python",
   "nbconvert_exporter": "python",
   "pygments_lexer": "ipython3",
   "version": "3.10.11"
  }
 },
 "nbformat": 4,
 "nbformat_minor": 5
}
